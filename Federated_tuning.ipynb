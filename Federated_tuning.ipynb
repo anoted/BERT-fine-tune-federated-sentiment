{
 "cells": [
  {
   "cell_type": "markdown",
   "metadata": {},
   "source": [
    "# 1. Data processing"
   ]
  },
  {
   "cell_type": "code",
   "execution_count": 1,
   "metadata": {},
   "outputs": [],
   "source": [
    "import pandas as pd\n",
    "pd.set_option('display.max_columns', None)          # None means unlimited\n",
    "pd.set_option('future.no_silent_downcasting', True)\n",
    "\n",
    "\n",
    "posts_df = pd.read_csv(\"posts.csv\", low_memory=False)\n",
    "df = posts_df\n",
    "#df.head()"
   ]
  },
  {
   "cell_type": "code",
   "execution_count": 2,
   "metadata": {},
   "outputs": [
    {
     "data": {
      "text/plain": [
       "_id                     object\n",
       "reactions.SAD            int64\n",
       "reactions.WOW            int64\n",
       "reactions.LOVE           int64\n",
       "reactions.HAHA           int64\n",
       "reactions.ANGRY          int64\n",
       "reactions.LIKE           int64\n",
       "reactions.THANKFUL     float64\n",
       "user_id                  int64\n",
       "link                    object\n",
       "date                    object\n",
       "message                 object\n",
       "emotion[0]             float64\n",
       "emotion[1]             float64\n",
       "emotion[2]             float64\n",
       "emotion[3]             float64\n",
       "emotion[4]             float64\n",
       "emotion[5]             float64\n",
       "emotion[6]             float64\n",
       "emotion[7]              object\n",
       "comments_emotion[0]    float64\n",
       "comments_emotion[1]    float64\n",
       "comments_emotion[2]    float64\n",
       "comments_emotion[3]    float64\n",
       "comments_emotion[4]    float64\n",
       "comments_emotion[5]    float64\n",
       "comments_emotion[6]    float64\n",
       "comments_emotion[7]    float64\n",
       "sentiment              float64\n",
       "comments_sentiment     float64\n",
       "off_topic                 bool\n",
       "dtype: object"
      ]
     },
     "execution_count": 2,
     "metadata": {},
     "output_type": "execute_result"
    }
   ],
   "source": [
    "df.dtypes"
   ]
  },
  {
   "cell_type": "code",
   "execution_count": 3,
   "metadata": {},
   "outputs": [],
   "source": [
    "#df.describe()"
   ]
  },
  {
   "cell_type": "code",
   "execution_count": 4,
   "metadata": {},
   "outputs": [],
   "source": [
    "#print(df.isna().sum())  # Check for missing values in the DataFrame"
   ]
  },
  {
   "cell_type": "code",
   "execution_count": 5,
   "metadata": {},
   "outputs": [
    {
     "name": "stderr",
     "output_type": "stream",
     "text": [
      "2024-05-07 08:57:48.470907: I tensorflow/core/util/port.cc:113] oneDNN custom operations are on. You may see slightly different numerical results due to floating-point round-off errors from different computation orders. To turn them off, set the environment variable `TF_ENABLE_ONEDNN_OPTS=0`.\n",
      "2024-05-07 08:57:48.505676: I tensorflow/core/platform/cpu_feature_guard.cc:210] This TensorFlow binary is optimized to use available CPU instructions in performance-critical operations.\n",
      "To enable the following instructions: AVX2 AVX512F AVX512_VNNI FMA, in other operations, rebuild TensorFlow with the appropriate compiler flags.\n",
      "2024-05-07 08:57:49.273850: W tensorflow/compiler/tf2tensorrt/utils/py_utils.cc:38] TF-TRT Warning: Could not find TensorRT\n"
     ]
    }
   ],
   "source": [
    "import numpy as np\n",
    "from tensorflow.keras.preprocessing.sequence import pad_sequences\n",
    "from sklearn.model_selection import train_test_split\n",
    "import torch.nn.functional as F\n",
    "import torch\n",
    "\n",
    "\n",
    "posts = df['message'].astype(str).values\n",
    "\n",
    "metadata_path = 'metadata.tsv'\n",
    "# simple tokenization based on the words in your metadata.tsv\n",
    "# word_index = {}\n",
    "# with open(metadata_path, 'r', encoding='utf-8') as f:\n",
    "#     for i, line in enumerate(f):\n",
    "#         word = line.strip()\n",
    "#         word_index[word] = i + 1  # Typically, 0 is reserved for padding\n",
    "\n",
    "# Tokenize your texts into sequences of integers\n",
    "# sequences = [[word_index.get(w, 0) for w in post.split()] for post in posts]\n",
    "# max_length = 100  # Determine a suitable maximum sequence length\n",
    "# data = pad_sequences(sequences, maxlen=max_length)\n",
    "data = posts #df['message']\n",
    "data_list = data.tolist()\n",
    "data = data_list"
   ]
  },
  {
   "cell_type": "markdown",
   "metadata": {},
   "source": [
    "### Labels:"
   ]
  },
  {
   "cell_type": "code",
   "execution_count": 6,
   "metadata": {},
   "outputs": [],
   "source": [
    "label_columns = ['emotion[0]', 'emotion[1]', 'emotion[2]', 'emotion[3]', 'emotion[4]', 'emotion[5]', 'emotion[6]', 'emotion[7]']\n",
    "labels = df[label_columns]\n",
    "\n",
    "for col in label_columns:   \n",
    "    labels.loc[:, col] = pd.to_numeric(labels[col], errors='coerce') #labels[col]\n",
    "\n",
    "# filling NAN with median\n",
    "labels_medians = labels.median()\n",
    "labels_clean = labels.fillna(labels_medians).infer_objects(copy=False)\n",
    "labels = labels_clean \n",
    "# print('\\nlabels:\\n', labels)\n",
    "\n",
    "# # softmax over each row\n",
    "# def softmax(x):\n",
    "#     e_x = np.exp(x - np.max(x, axis=1, keepdims=True))  # Ensure max is subtracted properly\n",
    "#     sum_e_x = e_x.sum(axis=1, keepdims=True)  # Sum should also be proper\n",
    "#     return e_x / sum_e_x  # Broadcast the division correctly\n",
    "\n",
    "# softmax_labels = softmax(labels.values)\n",
    "softmax_data = F.softmax(torch.tensor(labels.values), dim=1)\n",
    "#print(softmax_data)\n",
    "softmax_df = pd.DataFrame(softmax_data.numpy(), columns=label_columns)\n",
    "#print(softmax_df.values)\n",
    "\n",
    "labels = softmax_df"
   ]
  },
  {
   "cell_type": "code",
   "execution_count": 7,
   "metadata": {},
   "outputs": [],
   "source": [
    "# import matplotlib.pyplot as plt\n",
    "# import seaborn as sns\n",
    "\n",
    "# string_series = pd.Series(data_list)\n",
    "\n",
    "# word_counts = string_series.apply(lambda s: len(s.split()))\n",
    "\n",
    "# average_word_count = word_counts.mean()\n",
    "# quartiles = word_counts.quantile([0.25, 0.5, 0.75])\n",
    "\n",
    "# print(f\"Average Number of Words: {average_word_count}\")\n",
    "# print(f\"Quartiles:\\n{quartiles}\")\n",
    "\n",
    "# # Create and display a boxplot\n",
    "# sns.boxplot(y=word_counts)\n",
    "# plt.title('Boxplot of Word Counts')\n",
    "# plt.ylabel('Number of Words')\n",
    "# plt.show()"
   ]
  },
  {
   "cell_type": "code",
   "execution_count": 8,
   "metadata": {},
   "outputs": [],
   "source": [
    "# # Checking posts with word count greater than 512\n",
    "# i = 0\n",
    "# n = len(data_list)\n",
    "# for s in data_list:\n",
    "#     if len(s.split()) > 512:\n",
    "#         i+=1\n",
    "# print(i)\n",
    "# print(n-i)\n",
    "# print(n)"
   ]
  },
  {
   "cell_type": "markdown",
   "metadata": {},
   "source": [
    "Client dataset setup: "
   ]
  },
  {
   "cell_type": "code",
   "execution_count": 9,
   "metadata": {},
   "outputs": [],
   "source": [
    "# ###############################################\n",
    "# data = data[:20000]\n",
    "# labels = labels[:20000]\n",
    "# ################################################\n",
    "\n",
    "num_clients = 10\n",
    "\n",
    "clients = []\n",
    "for i in range(num_clients):\n",
    "    clients.append({'client_no': i,\n",
    "                    'data' : data[i*(int(len(data)/(num_clients+1))) : (i+1)*(int(len(data)/(num_clients+1)))],\n",
    "                    'labels' : labels[i*(int(len(data)/(num_clients+1))) : (i+1)*(int(len(data)/(num_clients+1)))],\n",
    "                    'loss_history' : []})\n",
    "    # print(len(clients[i]['labels']))"
   ]
  },
  {
   "cell_type": "markdown",
   "metadata": {},
   "source": [
    "# 2. Primary Model (BERT)"
   ]
  },
  {
   "cell_type": "code",
   "execution_count": 17,
   "metadata": {},
   "outputs": [
    {
     "name": "stdout",
     "output_type": "stream",
     "text": [
      "---------------------------------------------------------\n",
      "Round - 1\n",
      "\n",
      "\n",
      "client:\t1\tPre-optimization Loss:\t0.6433142085203479\n",
      "client: 1\tTraining loss:\t 0.40202592251621816\n",
      "client:\t2\tPre-optimization Loss:\t0.6426356814703988\n",
      "client: 2\tTraining loss:\t 0.39925197011671015\n",
      "client:\t3\tPre-optimization Loss:\t0.6403348493719561\n",
      "client: 3\tTraining loss:\t 0.3995302639622413\n",
      "client:\t4\tPre-optimization Loss:\t0.6417833046350571\n",
      "client: 4\tTraining loss:\t 0.4053150933737361\n",
      "client:\t5\tPre-optimization Loss:\t0.6388387856767642\n",
      "client: 5\tTraining loss:\t 0.39951362830984677\n",
      "client:\t6\tPre-optimization Loss:\t0.6388993353303435\n",
      "client: 6\tTraining loss:\t 0.3973718363009753\n",
      "client:\t7\tPre-optimization Loss:\t0.6402145683385888\n",
      "client: 7\tTraining loss:\t 0.40181972087124074\n",
      "client:\t8\tPre-optimization Loss:\t0.6462667924881412\n",
      "client: 8\tTraining loss:\t 0.40275258743261083\n",
      "client:\t9\tPre-optimization Loss:\t0.6482264387709674\n",
      "client: 9\tTraining loss:\t 0.4039394509958988\n",
      "client:\t10\tPre-optimization Loss:\t0.6477125461961406\n",
      "client: 10\tTraining loss:\t 0.40323924275407896\n",
      "---------------------------------------------------------\n",
      "---------------------------------------------------------\n",
      "Round - 2\n",
      "\n",
      "\n",
      "client:\t1\tPre-optimization Loss:\t0.36558339386420435\n",
      "client: 1\tTraining loss:\t 0.36332687630603305\n",
      "client:\t2\tPre-optimization Loss:\t0.36235247235501844\n",
      "client: 2\tTraining loss:\t 0.3602131906558484\n",
      "client:\t3\tPre-optimization Loss:\t0.36412825665722504\n",
      "client: 3\tTraining loss:\t 0.3625748733272839\n",
      "client:\t4\tPre-optimization Loss:\t0.3720345127968871\n",
      "client: 4\tTraining loss:\t 0.3697224893408095\n",
      "client:\t5\tPre-optimization Loss:\t0.3635649315017594\n",
      "client: 5\tTraining loss:\t 0.36236789157233396\n",
      "client:\t6\tPre-optimization Loss:\t0.361022645125109\n",
      "client: 6\tTraining loss:\t 0.35854589569220235\n",
      "client:\t7\tPre-optimization Loss:\t0.36406149368807056\n",
      "client: 7\tTraining loss:\t 0.3635258378744265\n",
      "client:\t8\tPre-optimization Loss:\t0.3686439666272097\n",
      "client: 8\tTraining loss:\t 0.3639995320520118\n",
      "client:\t9\tPre-optimization Loss:\t0.3701507772186663\n",
      "client: 9\tTraining loss:\t 0.36424495136363855\n",
      "client:\t10\tPre-optimization Loss:\t0.3688010219289848\n",
      "client: 10\tTraining loss:\t 0.3641207892499391\n",
      "---------------------------------------------------------\n"
     ]
    }
   ],
   "source": [
    "from transformers import BertForSequenceClassification, BertTokenizer\n",
    "from transformers import logging\n",
    "from torch.optim import AdamW\n",
    "import torch\n",
    "from torch.utils.data import DataLoader, TensorDataset\n",
    "from torch.nn import functional as F\n",
    "import numpy as np\n",
    "logging.set_verbosity_error()\n",
    "\n",
    "device = torch.device(\"cuda\" if torch.cuda.is_available() else \"cpu\") #\"cuda\" if torch.cuda.is_available() else \"cpu\"\n",
    "\n",
    "def encode_texts(text_list, max_length=512):\n",
    "    return tokenizer(text_list, padding='max_length', truncation=True, max_length=max_length, return_tensors='pt')\n",
    "\n",
    "\n",
    "######################################################################################################\n",
    "num_rounds = 2 #2 #20\n",
    "init_weights = None\n",
    "init_bias = None\n",
    "\n",
    "glob_weights = None\n",
    "glob_bias = None\n",
    "lambda_g = 1e-10\n",
    "\n",
    "# num_clients = 2\n",
    "\n",
    "round_history = []\n",
    "for n_round in range(num_rounds):\n",
    "    round_test_losses_per_client = []\n",
    "    print(\"---------------------------------------------------------\")\n",
    "    print(f'Round - {n_round+1}\\n')\n",
    "    \n",
    "    for i in range(num_clients): #num_clients\n",
    "        c_data = clients[i]['data']\n",
    "        c_labels = clients[i]['labels']\n",
    "        \n",
    "        x_train, x_val, y_train, y_val = train_test_split(c_data, c_labels, test_size=0.2, random_state=123)\n",
    "\n",
    "        ###################################################\n",
    "        # pre-trained model tokenizer (vocabulary)\n",
    "        tokenizer = BertTokenizer.from_pretrained('bert-base-uncased')\n",
    "\n",
    "        # pre-trained model (weights)\n",
    "        model = BertForSequenceClassification.from_pretrained('bert-base-uncased', num_labels=8)\n",
    "\n",
    "        # Freeze the bert model parameters (except classifier layer)\n",
    "        for name, param in model.named_parameters():\n",
    "            if 'classifier' in name:\n",
    "                param.requires_grad = True # only classifier update\n",
    "            else:\n",
    "                param.requires_grad = False\n",
    "\n",
    "        if(n_round == 0):\n",
    "            if(init_weights != None):\n",
    "                model.classifier.weight = torch.nn.Parameter( init_weights.clone().detach(), requires_grad=True )\n",
    "                model.classifier.bias   = torch.nn.Parameter( init_bias.clone().detach(), requires_grad=True )\n",
    "            else:\n",
    "                init_weights = model.classifier.weight.clone().detach()\n",
    "                init_bias    = model.classifier.bias.clone().detach()\n",
    "        else:\n",
    "            model.classifier.weight = torch.nn.Parameter( new_c_weight.clone().detach(), requires_grad=True ).to(device)\n",
    "            model.classifier.bias   = torch.nn.Parameter( new_c_bias.clone().detach(), requires_grad=True ).to(device)\n",
    "        \n",
    "        glob_weights = model.classifier.weight\n",
    "        glob_bias = model.classifier.bias\n",
    "\n",
    "        ###################################################\n",
    "\n",
    "        ######################################################################################################\n",
    "        #torch.cuda.empty_cache()\n",
    "\n",
    "        model.to(device)\n",
    "        model.eval()\n",
    "        \n",
    "        ######################################################################################################\n",
    "\n",
    "        # checking per round loss before training\n",
    "        p_loss = [] #0\n",
    "        n_t_batch = 0\n",
    "\n",
    "        test_encodings = encode_texts(x_val)\n",
    "        test_labels = torch.tensor(y_val.values).clone().detach().to(device)\n",
    "        test_dataset = TensorDataset(test_encodings['input_ids'], test_encodings['attention_mask'], test_labels) #, test_labels\n",
    "        test_loader = DataLoader(test_dataset, batch_size=16)\n",
    "\n",
    "        del test_dataset\n",
    "        del test_labels\n",
    "        del test_encodings\n",
    "\n",
    "        for batch in test_loader:\n",
    "            test_input_ids, test_attention_mask, test_b_labels = batch\n",
    "            test_inputs = {'input_ids': test_input_ids.to(device), \n",
    "                           'attention_mask': test_attention_mask.to(device)}#, \n",
    "                           #'labels': test_b_labels.to(device)}\n",
    "\n",
    "            del test_input_ids\n",
    "            del test_attention_mask\n",
    "            del batch\n",
    "\n",
    "            test_outputs = model(**test_inputs)  \n",
    "            b_loss = F.binary_cross_entropy_with_logits(test_outputs.logits.clone().detach(), test_b_labels)  # F.softmax( , dim=-1)#torch.tensor()\n",
    "                                                        #test_labels[n_t_batch*16: (n_t_batch+1)*16]\n",
    "            n_t_batch+=1\n",
    "            p_loss.append(b_loss)\n",
    "            del test_inputs\n",
    "            del test_outputs\n",
    "            del test_b_labels\n",
    "\n",
    "        p_loss = [p_loss[i].item() for i in range(len(p_loss))]\n",
    "        round_test_losses_per_client.append(np.array(p_loss).mean())\n",
    "        print(f'\\nclient:\\t{i+1}\\tPre-optimization Loss:\\t{np.array(p_loss).mean()}')\n",
    "\n",
    "        # del test_labels\n",
    "        del test_loader\n",
    "        # del test_dataset\n",
    "        del p_loss\n",
    "\n",
    "        ########################################################################\n",
    "        \n",
    "        # set model to training mode\n",
    "        model.train()\n",
    "\n",
    "        optimizer = AdamW(model.parameters(), lr=5e-5) # 1e-6\n",
    "\n",
    "        # Assume x_train and y_train are your dataset's features and labels respectively\n",
    "        train_encodings = encode_texts(x_train)\n",
    "\n",
    "        # Assuming train_encodings includes 'input_ids' and 'attention_mask',\n",
    "        # and train_labels is correctly formatted\n",
    "        train_labels = torch.tensor(y_train.values).clone().detach()\n",
    "                        #torch.tensor(torch.tensor(y_train.values)) #.clone().detach()#torch.tensor()\n",
    "        train_dataset = TensorDataset(train_encodings['input_ids'], train_encodings['attention_mask'], train_labels)\n",
    "        train_loader = DataLoader(train_dataset, batch_size=16, shuffle=True)\n",
    "\n",
    "\n",
    "        # training loop\n",
    "        round_losses = []\n",
    "        for epoch in range(1):\n",
    "            loss_list = []\n",
    "            for batch in train_loader:\n",
    "                # Ensure batch is unpacked correctly\n",
    "                input_ids, attention_mask, labels = batch\n",
    "                inputs = {'input_ids': input_ids.to(device), \n",
    "                          'attention_mask': attention_mask.to(device), \n",
    "                          'labels': labels.to(device)}\n",
    "                model.train()\n",
    "                outputs = model(**inputs)\n",
    "                loss = outputs.loss #[0]\n",
    "\n",
    "                loss_list.append(loss)\n",
    "                #print(F.cross_entropy(labels, outputs.logitd))\n",
    "                print(f\"\\rTraining - Current Loss: {loss}\", end=\"\")\n",
    "\n",
    "                # b_loss = F.binary_cross_entropy_with_logits(outputs.logits.clone().detach().to(device), labels.to(device))\n",
    "                # print('\\n',b_loss)\n",
    "\n",
    "                loss.backward()\n",
    "                optimizer.step()\n",
    "                optimizer.zero_grad()\n",
    "                \n",
    "            loss_list = [loss_list[i].item() for i in range(len(loss_list))]\n",
    "            #print(np.array(loss_list).mean())\n",
    "            round_losses.append(np.array(loss_list).mean())\n",
    "        clients[i]['loss_history'].append(round_losses[-1]) # only the last loss from epochs (round loss)\n",
    "        clients[i]['c_weights'] = model.classifier.weight\n",
    "        clients[i]['c_bias'] = model.classifier.bias\n",
    "\n",
    "        print(f'\\rclient: {i+1}\\tTraining loss:\\t', round_losses[-1], end=\"\")\n",
    "\n",
    "        ########################################################################\n",
    "    ### SERVER UPDATE - SIM ###\n",
    "    new_c_weight = 0\n",
    "    new_c_bias = 0\n",
    "    for i in range(num_clients):\n",
    "        # c_data = clients[i]['data']\n",
    "        # c_labels = clients[i]['labels']\n",
    "        # clients[i]['loss_history'].append(round_losses[-1]) # only the last loss from epochs\n",
    "        # clients[i]['c_weights'] = model.classifier.weight\n",
    "        new_c_weight += clients[i]['c_weights'] + lambda_g * (glob_weights - clients[i]['c_weights'])**2 # regularized update\n",
    "        new_c_bias   += clients[i]['c_bias']    + lambda_g * (glob_bias - clients[i]['c_bias'])**2\n",
    "    new_c_weight = new_c_weight/num_clients\n",
    "    new_c_bias = new_c_bias/num_clients\n",
    "    #print(new_c_weight/3)#, clients[i]['c_weights'])\n",
    "\n",
    "    del model\n",
    "    round_history.append(round_test_losses_per_client)\n",
    "    print(\"\\n---------------------------------------------------------\")\n",
    "\n"
   ]
  },
  {
   "cell_type": "code",
   "execution_count": 11,
   "metadata": {},
   "outputs": [
    {
     "name": "stdout",
     "output_type": "stream",
     "text": [
      "[0.7455859143799037, 0.7005818573567741, 0.6588079516944534, 0.6197723217807124, 0.5852436694024911, 0.5534695706644057, 0.5254586071722228, 0.5005612897430515, 0.47853363303233576, 0.45920464600581384, 0.44238158354889795, 0.42849877772843226, 0.416168723346357, 0.40542614590578663, 0.3976212539196473, 0.39154107792682846, 0.3846872867101002, 0.37999464298620445, 0.3771681956159486, 0.3741103307857605]\n",
      "[0.7470215027641557, 0.7006580729440973, 0.6580950590564415, 0.619897937682773, 0.584815807209328, 0.5533243563271771, 0.5250616265948943, 0.5005903117630955, 0.4777186256530697, 0.4591219713542934, 0.44179818825428174, 0.4273584817262527, 0.415131139334582, 0.40442839820057225, 0.3955355701653643, 0.3886464155834699, 0.38307652391160674, 0.37823330086582463, 0.3744843300196368, 0.3714656776486915]\n",
      "[0.7481641163424944, 0.7014662202343689, 0.6586162560577427, 0.6197399545839757, 0.584383121260103, 0.5523797494447585, 0.5244352795401952, 0.4991420691162033, 0.47679812359955304, 0.4574890596571491, 0.4410112648115716, 0.42654842012982197, 0.4147585081180698, 0.4040575893178163, 0.3954981294444043, 0.38826881326498514, 0.3828043210841119, 0.3780047624338383, 0.37466429123534534, 0.3720196680530788]\n",
      "[0.7481815130743394, 0.7008826356041361, 0.6576871095436279, 0.6179648345985168, 0.5818814981372992, 0.5499733642050345, 0.5214369828370391, 0.49631074612769066, 0.47497117885377355, 0.4555432707827516, 0.4396070958151974, 0.42620214558661484, 0.41463168481859997, 0.4045034201016639, 0.39634866305876365, 0.3907020409725878, 0.38554545656408956, 0.38215551918607676, 0.37897614465862467, 0.3769127889262778]\n",
      "[0.7498486432167555, 0.7028254795605231, 0.6599983587544842, 0.6200813482568657, 0.584506765905766, 0.5530613957543263, 0.5243913501888827, 0.4996298791335174, 0.47790793366437556, 0.4582985763929756, 0.441940979028959, 0.4269727587861037, 0.41478289225160353, 0.4051859549988125, 0.39650533887094164, 0.38948358512225323, 0.3834429537445809, 0.379188486634007, 0.3752799858816909, 0.3725665960973366]\n",
      "[0.7496416730249047, 0.7025480286652734, 0.6605080161014677, 0.6209754219580494, 0.5855438413849867, 0.5536143868807097, 0.525635700968571, 0.4998129168495843, 0.47812585103030636, 0.4585454360757868, 0.44152590519679835, 0.42684817380363677, 0.41463877907774827, 0.4038285930621962, 0.3951150624100994, 0.3878967730697945, 0.3814785300801269, 0.3765409841287345, 0.3733282373125517, 0.37062707883278584]\n",
      "[0.7474038299432166, 0.701204458918912, 0.6582201961934997, 0.6196930362504364, 0.5845498753550578, 0.5530723010084456, 0.5246501623186154, 0.49975819171343583, 0.47825153431123857, 0.4590798300519732, 0.4425975035022358, 0.42804584436004367, 0.41615980339149233, 0.40616602581623135, 0.39811878872100553, 0.3900172042953141, 0.384124738956461, 0.3797097726916399, 0.37616428537132596, 0.37345196521575375]\n",
      "[0.7443644160068742, 0.6975856791945234, 0.6552035124133246, 0.6167197362678098, 0.5821414640595278, 0.5508480640971873, 0.5226011225971448, 0.4978976344530739, 0.4766549429901763, 0.458272269335614, 0.44240865746810837, 0.4286460548904547, 0.4170262715909247, 0.40739867622968956, 0.39908852077719875, 0.3922512495743882, 0.3866962103657927, 0.3820087518511823, 0.37840755126530434, 0.3755123214197793]\n",
      "[0.7432720171810885, 0.6974973931126507, 0.6560043973731139, 0.6181366615300942, 0.5834374695353366, 0.5521045652675333, 0.524947228426868, 0.5003390626869869, 0.47879749906130614, 0.460481711022315, 0.4441651588696581, 0.43113693898285177, 0.41905253108265433, 0.4092908910855566, 0.40151900024703047, 0.39417211808934055, 0.3889966374306682, 0.38370488598599506, 0.3803207497404972, 0.3772191265467562]\n",
      "[0.7429647717330834, 0.6973464761308534, 0.6550522064627216, 0.6164704079348388, 0.5819708129638455, 0.5508250683378085, 0.5232419268597209, 0.4985793147086934, 0.47694424028471477, 0.4584776781045895, 0.44252014713093324, 0.4291689716339351, 0.4181340815423265, 0.4078760922721823, 0.39992333758597914, 0.39302603526840557, 0.3875039004901088, 0.38286086972606675, 0.3787064476902838, 0.3762913674838639]\n"
     ]
    }
   ],
   "source": [
    "for i in range(num_clients):\n",
    "        # c_data = clients[i]['data']\n",
    "        print(clients[i]['loss_history'])"
   ]
  },
  {
   "cell_type": "code",
   "execution_count": null,
   "metadata": {},
   "outputs": [],
   "source": [
    "# import matplotlib.pyplot as plt\n",
    "\n",
    "# plt.figure(figsize=(8,5))\n",
    "\n",
    "# for i in range(num_clients):\n",
    "#         plt.plot(clients[i]['loss_history'])\n",
    "# plt.xlabel(\"Rounds\")\n",
    "# plt.ylabel(\"Loss\")\n",
    "# plt.title(\"Loss over rounds\")\n",
    "# plt.show()"
   ]
  },
  {
   "cell_type": "code",
   "execution_count": 13,
   "metadata": {},
   "outputs": [],
   "source": [
    "# print(F.softmax(torch.tensor(outputs.logits.cpu().detach().numpy()), dim=1))#(np.array(outputs.logits.cpu().detach().numpy()))\n",
    "# # print(outputs.loss)\n",
    "# print(inputs['labels'])"
   ]
  },
  {
   "cell_type": "markdown",
   "metadata": {},
   "source": [
    "## Saving history:"
   ]
  },
  {
   "cell_type": "code",
   "execution_count": 18,
   "metadata": {},
   "outputs": [],
   "source": [
    "import pickle\n",
    "\n",
    "# Saving\n",
    "with open('client_history.pickle', 'wb') as handle:\n",
    "    pickle.dump(clients, handle, protocol=pickle.HIGHEST_PROTOCOL)"
   ]
  },
  {
   "cell_type": "code",
   "execution_count": 1,
   "metadata": {},
   "outputs": [],
   "source": [
    "import pickle\n",
    "\n",
    "# Loading\n",
    "with open('client_history.pickle', 'rb') as handle:\n",
    "    clients = pickle.load(handle)\n",
    "\n",
    "# print(clients == client_h)"
   ]
  },
  {
   "cell_type": "code",
   "execution_count": null,
   "metadata": {},
   "outputs": [],
   "source": [
    "with open('round_history.pickle', 'wb') as handle:\n",
    "    pickle.dump(round_history, handle, protocol=pickle.HIGHEST_PROTOCOL)"
   ]
  },
  {
   "cell_type": "code",
   "execution_count": 5,
   "metadata": {},
   "outputs": [],
   "source": [
    "with open('round_history.pickle', 'rb') as handle:\n",
    "    round_history_h = pickle.load(handle)\n",
    "# print(round_history == round_history_h)"
   ]
  },
  {
   "cell_type": "code",
   "execution_count": 7,
   "metadata": {},
   "outputs": [
    {
     "data": {
      "text/plain": [
       "Text(0.5, 1.0, 'Loss over rounds (clients 1-10)')"
      ]
     },
     "execution_count": 7,
     "metadata": {},
     "output_type": "execute_result"
    },
    {
     "data": {
      "image/png": "[encoded data removed]",
      "text/plain": [
       "<Figure size 800x500 with 1 Axes>"
      ]
     },
     "metadata": {},
     "output_type": "display_data"
    }
   ],
   "source": [
    "import matplotlib.pyplot as plt\n",
    "plt.figure(figsize=(8,5))\n",
    "for i in range(num_clients):   \n",
    "    plt.plot([x[i] for x in round_history_h])\n",
    "plt.xlabel(\"Rounds\")\n",
    "plt.ylabel(\"Loss\")\n",
    "plt.title(\"Loss over rounds (clients 1-10)\")"
   ]
  },
  {
   "cell_type": "markdown",
   "metadata": {},
   "source": [
    "# Final testing:"
   ]
  },
  {
   "cell_type": "code",
   "execution_count": 3,
   "metadata": {},
   "outputs": [
    {
     "name": "stdout",
     "output_type": "stream",
     "text": [
      "client: 1\n",
      "\n",
      "Test - Current Loss: 0.3558692397220059\n",
      "\n",
      "\n",
      "client: 2\n",
      "\n",
      "Test - Current Loss: 0.36741629932631203\n",
      "\n",
      "\n",
      "client: 3\n",
      "\n",
      "Test - Current Loss: 0.3610631827752113\n",
      "\n",
      "\n",
      "client: 4\n",
      "\n",
      "Test - Current Loss: 0.3708866713690918\n",
      "\n",
      "\n",
      "client: 5\n",
      "\n",
      "Test - Current Loss: 0.35977029139375466\n",
      "\n",
      "\n",
      "client: 6\n",
      "\n",
      "Test - Current Loss: 0.34764334151713017\n",
      "\n",
      "\n",
      "client: 7\n",
      "\n",
      "Test - Current Loss: 0.36275529049193833\n",
      "\n",
      "\n",
      "client: 8\n",
      "\n",
      "Test - Current Loss: 0.36855344847835636\n",
      "\n",
      "\n",
      "client: 9\n",
      "\n",
      "Test - Current Loss: 0.37045217693080307\n",
      "\n",
      "\n",
      "client: 10\n",
      "\n",
      "Test - Current Loss: 0.36639318063308246\n",
      "\n",
      "\n"
     ]
    }
   ],
   "source": [
    "from transformers import BertForSequenceClassification, BertTokenizer\n",
    "from transformers import logging\n",
    "from torch.optim import AdamW\n",
    "import torch\n",
    "from torch.utils.data import DataLoader, TensorDataset\n",
    "from torch.nn import functional as F\n",
    "import numpy as np\n",
    "from tensorflow.keras.preprocessing.sequence import pad_sequences\n",
    "from sklearn.model_selection import train_test_split\n",
    "\n",
    "logging.set_verbosity_error()\n",
    "\n",
    "device = torch.device(\"cuda\" if torch.cuda.is_available() else \"cpu\") #\"cuda\" if torch.cuda.is_available() else \"cpu\"\n",
    "\n",
    "def encode_texts(text_list, max_length=512):\n",
    "    return tokenizer(text_list, padding='max_length', truncation=True, max_length=max_length, return_tensors='pt')\n",
    "\n",
    "\n",
    "model = BertForSequenceClassification.from_pretrained('bert-base-uncased', num_labels=8)\n",
    "tokenizer = BertTokenizer.from_pretrained('bert-base-uncased')\n",
    "num_clients = 10\n",
    "###################################################\n",
    "# pre-trained model tokenizer (vocabulary)\n",
    "\n",
    "new_c_weight = 0\n",
    "new_c_bias = 0\n",
    "for i in range(num_clients):\n",
    "       new_c_weight += clients[i]['c_weights']\n",
    "       new_c_bias   += clients[i]['c_bias']\n",
    "new_c_weight = new_c_weight/num_clients\n",
    "new_c_bias = new_c_bias/num_clients\n",
    "\n",
    "\n",
    "model.classifier.weight = torch.nn.Parameter( new_c_weight.clone().detach().to(device), requires_grad=True )\n",
    "model.classifier.bias   = torch.nn.Parameter( new_c_bias.clone().detach().to(device), requires_grad=True )\n",
    "model.to(device)\n",
    "model.eval()\n",
    "\n",
    "\n",
    "\n",
    "for i in range(num_clients): #num_clients\n",
    "       print(f\"client: {i+1}\\n\")\n",
    "       c_data = clients[i]['data']\n",
    "       c_labels = clients[i]['labels']\n",
    "       \n",
    "       x_train, x_val, y_train, y_val = train_test_split(c_data, c_labels, test_size=0.2, random_state=123)\n",
    "\n",
    "       # Assume x_train and y_train are your dataset's features and labels respectively\n",
    "       test_encodings = encode_texts(x_train)\n",
    "\n",
    "       # Assuming train_encodings includes 'input_ids' and 'attention_mask',\n",
    "       # and train_labels is correctly formatted\n",
    "       test_labels = torch.tensor(y_train.values).clone().detach()\n",
    "                     #torch.tensor(torch.tensor(y_train.values)) #.clone().detach()#torch.tensor()\n",
    "       test_dataset = TensorDataset(test_encodings['input_ids'], test_encodings['attention_mask'], test_labels)\n",
    "       test_loader = DataLoader(test_dataset, batch_size=16, shuffle=True)\n",
    "       \n",
    "       del test_labels, test_dataset, test_encodings\n",
    "\n",
    "       # training loop\n",
    "       round_losses = []\n",
    "       loss_list = []\n",
    "       for batch in test_loader:\n",
    "              input_ids, attention_mask, labels = batch\n",
    "              inputs = {'input_ids': input_ids.to(device), \n",
    "                     'attention_mask': attention_mask.to(device), \n",
    "                     'labels': labels.to(device)}\n",
    "              # model.train()\n",
    "              outputs = model(**inputs)\n",
    "              loss = outputs.loss #[0]\n",
    "\n",
    "              loss_list.append(loss)\n",
    "              #print(F.cross_entropy(labels, outputs.logitd))\n",
    "              print(f\"\\rTest - Current Loss: {loss}\", end=\"\")\n",
    "              \n",
    "              del input_ids, attention_mask, labels\n",
    "              break\n",
    "       loss_list = [loss_list[i].item() for i in range(len(loss_list))]\n",
    "       #print(np.array(loss_list).mean())\n",
    "       round_losses.append(np.array(loss_list).mean())\n",
    "       print(\"\\n\\n\")"
   ]
  },
  {
   "cell_type": "markdown",
   "metadata": {},
   "source": [
    "# Saving the model:"
   ]
  },
  {
   "cell_type": "code",
   "execution_count": 4,
   "metadata": {},
   "outputs": [
    {
     "data": {
      "text/plain": [
       "('./fed_finetune_v1/tokenizer_config.json',\n",
       " './fed_finetune_v1/special_tokens_map.json',\n",
       " './fed_finetune_v1/vocab.txt',\n",
       " './fed_finetune_v1/added_tokens.json')"
      ]
     },
     "execution_count": 4,
     "metadata": {},
     "output_type": "execute_result"
    }
   ],
   "source": [
    "model.save_pretrained('./fed_finetune_v1')\n",
    "tokenizer.save_pretrained('./fed_finetune_v1')"
   ]
  }
 ],
 "metadata": {
  "kernelspec": {
   "display_name": "Python 3",
   "language": "python",
   "name": "python3"
  },
  "language_info": {
   "codemirror_mode": {
    "name": "ipython",
    "version": 3
   },
   "file_extension": ".py",
   "mimetype": "text/x-python",
   "name": "python",
   "nbconvert_exporter": "python",
   "pygments_lexer": "ipython3",
   "version": "3.10.12"
  }
 },
 "nbformat": 4,
 "nbformat_minor": 2
}
